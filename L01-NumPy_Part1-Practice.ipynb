{
 "cells": [
  {
   "cell_type": "markdown",
   "metadata": {},
   "source": [
    "# Lesson 1 Practice: NumPy Part 1\n",
    "Use this notebook to follow along with the lesson in the corresponding lesson notebook: [L01-Numpy_Part1-Lesson.ipynb](./L01-Numpy_Part1-Lesson.ipynb).  \n",
    "\n"
   ]
  },
  {
   "cell_type": "markdown",
   "metadata": {},
   "source": [
    "## Instructions\n",
    "Follow along with the teaching material in the lesson. Throughout the tutorial sections labeled as \"Tasks\" are interspersed and indicated with the icon: ![Task](http://icons.iconarchive.com/icons/sbstnblnd/plateau/16/Apps-gnome-info-icon.png). You should follow the instructions provided in these sections by performing them in the practice notebook.  When the tutorial is completed you can turn in the final practice notebook. For each task, use the cell below it to write and test your code.  You may add additional cells for any task as needed or desired.  "
   ]
  },
  {
   "cell_type": "markdown",
   "metadata": {},
   "source": [
    "## Task 1a: Setup\n",
    "\n",
    "In the practice notebook, import the following packages:\n",
    "+ `numpy` as `np`"
   ]
  },
  {
   "cell_type": "code",
   "execution_count": 2,
   "metadata": {},
   "outputs": [],
   "source": [
    "import numpy as np"
   ]
  },
  {
   "cell_type": "markdown",
   "metadata": {},
   "source": [
    "## Task 2a: Creating Arrays\n",
    "\n",
    "In the practice notebook, perform the following.  \n",
    "- Create a 1-dimensional numpy array and print it.\n",
    "- Create a 2-dimensional numpy array and print it.\n",
    "- Create a 3-dimensional numpy array and print it."
   ]
  },
  {
   "cell_type": "code",
   "execution_count": 37,
   "metadata": {},
   "outputs": [
    {
     "name": "stdout",
     "output_type": "stream",
     "text": [
      "[[[1 2]\n",
      "  [3 4]]\n",
      "\n",
      " [[5 6]\n",
      "  [7 8]]]\n"
     ]
    }
   ],
   "source": [
    "my_1d_array = np.array([1,2,3,4])\n",
    "my_2d_array = np.array([[1,2,3], [4,5,6]])\n",
    "my_3d_array = np.array([[[1,2], [3,4]], [[5,6], [7,8]]])\n",
    "print(my_3d_array)"
   ]
  },
  {
   "cell_type": "markdown",
   "metadata": {},
   "source": [
    "## Task 3a: Accessing Array Attributes\n",
    "\n",
    "In the practice notebook, perform the following.\n",
    "\n",
    "- Create a NumPy array.\n",
    "- Write code that prints these attributes (one per line): `ndim`, `shape`, `size`, `dtype`, `itemsize`, `data`, `nbytes`.\n",
    "- Add a comment line, before each line describing what value the attribute returns. \n"
   ]
  },
  {
   "cell_type": "code",
   "execution_count": 16,
   "metadata": {
    "scrolled": true
   },
   "outputs": [
    {
     "name": "stdout",
     "output_type": "stream",
     "text": [
      "3\n",
      "(2, 2, 3)\n",
      "12\n",
      "int64\n",
      "8\n",
      "<memory at 0x10a6d2d50>\n",
      "96\n"
     ]
    }
   ],
   "source": [
    "my_3d_array = np.array([[[1,2,3], [4,5,6]], [[7,8,9],[10,11,12]]])\n",
    "\n",
    "# Total dimensions of the array\n",
    "print(my_3d_array.ndim)\n",
    "\n",
    "# Dimension of the axis\n",
    "print(my_3d_array.shape)\n",
    "\n",
    "# Total elements in the array\n",
    "print(my_3d_array.size)\n",
    "\n",
    "# Type of data in the array\n",
    "print(my_3d_array.dtype)\n",
    "\n",
    "# Length of one array element in bytes\n",
    "print(my_3d_array.itemsize)\n",
    "\n",
    "# Buffer object pointing to the start of the array's data\n",
    "print(my_3d_array.data)\n",
    "\n",
    "# Total bytes consumed by elements in the array\n",
    "print(my_3d_array.nbytes)"
   ]
  },
  {
   "cell_type": "markdown",
   "metadata": {},
   "source": [
    "## Task 4a: Initializing Arrays\n",
    "\n",
    "In the practice notebook, perform the following.\n",
    "\n",
    "+ Create an initialized array by using these functions:  `ones`, `zeros`, `empty`, `full`, `arange`, `linspace` and `random.random`. Be sure to follow each array creation with a call to `print()` to display your newly created arrays. \n",
    "+ Add a comment above each function call describing what is being done.  "
   ]
  },
  {
   "cell_type": "code",
   "execution_count": 3,
   "metadata": {},
   "outputs": [
    {
     "name": "stdout",
     "output_type": "stream",
     "text": [
      "[[1. 1. 1. 1.]\n",
      " [1. 1. 1. 1.]\n",
      " [1. 1. 1. 1.]]\n",
      "[[0. 0. 0. 0.]\n",
      " [0. 0. 0. 0.]\n",
      " [0. 0. 0. 0.]]\n",
      "[[0. 0. 0. 0.]\n",
      " [0. 0. 0. 0.]\n",
      " [0. 0. 0. 0.]]\n",
      "[[2 2 2 2]\n",
      " [2 2 2 2]\n",
      " [2 2 2 2]]\n",
      "[0 1 2 3 4 5 6 7 8 9]\n",
      "[ 1.    3.25  5.5   7.75 10.  ]\n",
      "[[0.87762473 0.07572386 0.11463464]\n",
      " [0.82336717 0.57927279 0.5562766 ]\n",
      " [0.06292643 0.24913555 0.28699592]]\n"
     ]
    }
   ],
   "source": [
    "# print a 2-dimensional array filled with ones with 3 rows and 4 columns\n",
    "ones = np.ones((3,4))\n",
    "print(ones)\n",
    "\n",
    "# print a 2-dimensional array filled with zeros with 3 rows and 4 columns\n",
    "zeros = np.zeros((3,4))\n",
    "print(zeros)\n",
    "\n",
    "# print an empty 2-dimensional array with 3 rows and 4 columns\n",
    "empty = np.empty((3,4))\n",
    "print(empty)\n",
    "\n",
    "# print a 2-dimensional array with 3 rows and 4 columns filled with 2\n",
    "full = np.full((3,4),2)\n",
    "print(full)\n",
    "\n",
    "# print a 1-dimnesional array of values 0 to 9\n",
    "arange = np.arange(10,)\n",
    "print(arange)\n",
    "\n",
    "# return a new array of evenly spaced numbers over the number of intervals given\n",
    "linspace = np.linspace(1,10, num=5)\n",
    "print(linspace)\n",
    "\n",
    "# return a random 3x3 2-dimensional array filled with numbers between 0 and 1.\n",
    "random = np.random.random((3,3))\n",
    "print(random)"
   ]
  },
  {
   "cell_type": "markdown",
   "metadata": {},
   "source": [
    "## Task 5a:  Broadcasting Arrays\n",
    "\n",
    "In the practice notebook, perform the following.\n",
    "\n",
    "+ Create two arrays of differing sizes but compatible with broadcasting.\n",
    "+ Perform addition, multiplication and subtraction.\n",
    "+ Create two additional arrays of differing size that do not meet the rules for broadcasting and try a mathematical operation.  "
   ]
  },
  {
   "cell_type": "code",
   "execution_count": 3,
   "metadata": {},
   "outputs": [
    {
     "name": "stdout",
     "output_type": "stream",
     "text": [
      "[[[1.88500544 1.88500544]\n",
      "  [1.10214297 1.10214297]\n",
      "  [1.92183523 1.92183523]]]\n",
      "[[[0.88500544 0.88500544]\n",
      "  [0.10214297 0.10214297]\n",
      "  [0.92183523 0.92183523]]]\n",
      "[[[0.11499456 0.11499456]\n",
      "  [0.89785703 0.89785703]\n",
      "  [0.07816477 0.07816477]]]\n"
     ]
    }
   ],
   "source": [
    "a = np.ones((1,3,2))\n",
    "b = np.random.random((3,1))\n",
    "\n",
    "add = a+b\n",
    "print(add)\n",
    "\n",
    "multiply = a*b\n",
    "print(multiply)\n",
    "\n",
    "subtract = a-b\n",
    "print(subtract)"
   ]
  },
  {
   "cell_type": "code",
   "execution_count": 6,
   "metadata": {},
   "outputs": [
    {
     "ename": "ValueError",
     "evalue": "operands could not be broadcast together with shapes (3,) (2,) ",
     "output_type": "error",
     "traceback": [
      "\u001b[0;31m---------------------------------------------------------------------------\u001b[0m",
      "\u001b[0;31mValueError\u001b[0m                                Traceback (most recent call last)",
      "\u001b[0;32m<ipython-input-6-b1517c09b549>\u001b[0m in \u001b[0;36m<module>\u001b[0;34m\u001b[0m\n\u001b[1;32m      2\u001b[0m \u001b[0mb\u001b[0m \u001b[0;34m=\u001b[0m \u001b[0mnp\u001b[0m\u001b[0;34m.\u001b[0m\u001b[0marray\u001b[0m\u001b[0;34m(\u001b[0m\u001b[0;34m(\u001b[0m\u001b[0;36m5\u001b[0m\u001b[0;34m,\u001b[0m\u001b[0;36m1\u001b[0m\u001b[0;34m)\u001b[0m\u001b[0;34m)\u001b[0m\u001b[0;34m\u001b[0m\u001b[0;34m\u001b[0m\u001b[0m\n\u001b[1;32m      3\u001b[0m \u001b[0;34m\u001b[0m\u001b[0m\n\u001b[0;32m----> 4\u001b[0;31m \u001b[0ma\u001b[0m\u001b[0;34m*\u001b[0m\u001b[0mb\u001b[0m\u001b[0;34m\u001b[0m\u001b[0;34m\u001b[0m\u001b[0m\n\u001b[0m",
      "\u001b[0;31mValueError\u001b[0m: operands could not be broadcast together with shapes (3,) (2,) "
     ]
    }
   ],
   "source": [
    "a = np.array((6,3,2))\n",
    "b = np.array((5,1))\n",
    "\n",
    "a*b"
   ]
  },
  {
   "cell_type": "markdown",
   "metadata": {},
   "source": [
    "## Task 6a: Math/Stats Aggregate Functions\n",
    "\n",
    "In the practice notebook, perform the following.\n",
    "\n",
    "+ Create three to five arrays\n",
    "+ Experiment with each of the aggregation functions: `sum`, `minimum`, `maximum`, `cumsum`, `mean`, `np.corrcoef`, `np.std`, `np.var`. \n",
    "+ For each function call, add a comment line above it that describes what it does.  \n",
    "```\n"
   ]
  },
  {
   "cell_type": "code",
   "execution_count": 93,
   "metadata": {},
   "outputs": [
    {
     "name": "stdout",
     "output_type": "stream",
     "text": [
      "[ 6 21]\n",
      "[ 7  9 11]\n",
      "[[[1 2 3]\n",
      "  [6 5 4]]\n",
      "\n",
      " [[1 2 1]\n",
      "  [1 1 1]]]\n",
      "[[[9 8 7]\n",
      "  [6 5 4]]\n",
      "\n",
      " [[3 2 3]\n",
      "  [1 2 3]]]\n",
      "[ 9 17 24 30 35 39 42 44 45 46 47 48]\n",
      "[[[ 9  8  7]\n",
      "  [15 13 11]]\n",
      "\n",
      " [[ 3  2  1]\n",
      "  [ 4  3  2]]]\n",
      "[3.5 4.5 5.5]\n",
      "[[1. 1.]\n",
      " [1. 1.]]\n",
      "[2.5 2.5 2.5]\n",
      "[6.25 6.25 6.25]\n"
     ]
    }
   ],
   "source": [
    "a1 = np.array([1,2,3])\n",
    "a11 = np.array([4,5,6])\n",
    "\n",
    "a2 = np.array([[1,2,3],[6,7,8]])\n",
    "\n",
    "a3 = np.array([[[9,8,7],[6,5,4]],[[3,2,1],[1,1,1]]])\n",
    "\n",
    "# returns the sum of rows\n",
    "horizontal = np.sum(a2, axis=1)\n",
    "print(horizontal)\n",
    "\n",
    "# returns the sum of columns\n",
    "vertical = np.sum(a2, axis=0)\n",
    "print(vertical)\n",
    "\n",
    "# return a new array of the minimum at each position between a2 and a3\n",
    "minimum = np.minimum(a2, a3)\n",
    "print(minimum)\n",
    "\n",
    "# return a new array of the maximum at each position between a1 and a3\n",
    "maximum = np.maximum(a1, a3)\n",
    "print(maximum)\n",
    "\n",
    "# return the cummulative sum of the elements in the array\n",
    "cumsum = np.cumsum(a3)\n",
    "print(cumsum)\n",
    "\n",
    "# return the cummulative sum of the elements in the array along a given axis\n",
    "axis_cumsum = np.cumsum(a3, axis = 1)\n",
    "print(axis_cumsum)\n",
    "\n",
    "# compute the arithmetic mean along the specified axis\n",
    "mean = np.mean(a2, axis = 0)\n",
    "print(mean)\n",
    "\n",
    "# return Pearson product-moment correlation coefficients between two 1D arrays or one 2D array.\n",
    "corrcoef = np.corrcoef(a2)\n",
    "print(corrcoef)\n",
    "\n",
    "# compute the standard deviation along the specified axis\n",
    "std = np.std(a2, axis = 0)\n",
    "print(std)\n",
    "\n",
    "# compute the variance along the specified axis.\n",
    "var = np.var(a2, axis = 0)\n",
    "print(var)\n"
   ]
  },
  {
   "cell_type": "markdown",
   "metadata": {},
   "source": [
    "## Task 6b: Logical Aggregate Functions\n",
    "\n",
    "In the practice notebook, perform the following.\n",
    "\n",
    "+ Create two arrays containing boolean values.\n",
    "+ Experiment with each of the aggregation functions: `logical_and`, `logical_or`, `logical_not`. \n",
    "+ For each function call, add a comment line above it that describes what it does.  \n",
    "```"
   ]
  },
  {
   "cell_type": "code",
   "execution_count": 35,
   "metadata": {},
   "outputs": [
    {
     "data": {
      "text/plain": [
       "array([ True, False,  True, False])"
      ]
     },
     "execution_count": 35,
     "metadata": {},
     "output_type": "execute_result"
    }
   ],
   "source": [
    "a = [True, False, True, False]\n",
    "b = [True, True, True, False]\n",
    "\n",
    "# Perform a logical \"and\" between the elements of the list\n",
    "\n",
    "np.logical_and(a, b)"
   ]
  },
  {
   "cell_type": "code",
   "execution_count": 33,
   "metadata": {},
   "outputs": [
    {
     "data": {
      "text/plain": [
       "array([ True,  True,  True, False])"
      ]
     },
     "execution_count": 33,
     "metadata": {},
     "output_type": "execute_result"
    }
   ],
   "source": [
    "# Perform a logical \"or\" between the elements of the list\n",
    "\n",
    "np.logical_or(a, b)"
   ]
  },
  {
   "cell_type": "code",
   "execution_count": 45,
   "metadata": {},
   "outputs": [
    {
     "data": {
      "text/plain": [
       "array([False,  True, False,  True])"
      ]
     },
     "execution_count": 45,
     "metadata": {},
     "output_type": "execute_result"
    }
   ],
   "source": [
    "# Perform a logical \"not\" and \"and\" between the elements of the list\n",
    "\n",
    "np.logical_not(a and b)"
   ]
  },
  {
   "cell_type": "code",
   "execution_count": 46,
   "metadata": {},
   "outputs": [
    {
     "data": {
      "text/plain": [
       "array([False,  True, False,  True])"
      ]
     },
     "execution_count": 46,
     "metadata": {},
     "output_type": "execute_result"
    }
   ],
   "source": [
    "# Perform a logical \"not\" and \"or\" between the elements of the list\n",
    "\n",
    "np.logical_not(a or b)"
   ]
  }
 ],
 "metadata": {
  "kernelspec": {
   "display_name": "Python 3",
   "language": "python",
   "name": "python3"
  },
  "language_info": {
   "codemirror_mode": {
    "name": "ipython",
    "version": 3
   },
   "file_extension": ".py",
   "mimetype": "text/x-python",
   "name": "python",
   "nbconvert_exporter": "python",
   "pygments_lexer": "ipython3",
   "version": "3.7.4"
  }
 },
 "nbformat": 4,
 "nbformat_minor": 4
}
