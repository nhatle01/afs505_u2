{
 "cells": [
  {
   "cell_type": "markdown",
   "metadata": {},
   "source": [
    "# Lesson 9 Practice: Supervised Machine Learning\n",
    "Use this notebook to follow along with the lesson in the corresponding lesson notebook: [L09-Supervised_Machine_Learning-Lesson.ipynb](./L09-Supervised_Machine_Learning-Lesson.ipynb).  \n",
    " "
   ]
  },
  {
   "cell_type": "markdown",
   "metadata": {},
   "source": [
    "## Instructions\n",
    "Follow along with the teaching material in the lesson. Throughout the tutorial sections labeled as \"Tasks\" are interspersed and indicated with the icon: ![Task](http://icons.iconarchive.com/icons/sbstnblnd/plateau/16/Apps-gnome-info-icon.png). You should follow the instructions provided in these sections by performing them in the practice notebook.  When the tutorial is completed you can turn in the final practice notebook. For each task, use the cell below it to write and test your code.  You may add additional cells for any task as needed or desired.  "
   ]
  },
  {
   "cell_type": "markdown",
   "metadata": {},
   "source": [
    "## Task 1a: Setup\n",
    "\n",
    "Import the following package sets:\n",
    "+ packages for data management\n",
    "+ pacakges for visualization\n",
    "+ packages for machine learning\n",
    "\n",
    "Remember to activate the `%matplotlib inline` magic."
   ]
  },
  {
   "cell_type": "code",
   "execution_count": 2,
   "metadata": {},
   "outputs": [],
   "source": [
    "%matplotlib inline\n",
    "\n",
    "# Data Management\n",
    "import numpy as np\n",
    "import pandas as pd\n",
    "\n",
    "# Visualization\n",
    "import seaborn as sns\n",
    "import matplotlib.pyplot as plt\n",
    "\n",
    "# Machine learning\n",
    "from sklearn import model_selection\n",
    "from sklearn import preprocessing\n",
    "from sklearn.metrics import accuracy_score\n",
    "from sklearn.metrics import confusion_matrix\n",
    "from sklearn.metrics import classification_report\n",
    "from sklearn.linear_model import LogisticRegression\n",
    "from sklearn.svm import SVC, LinearSVC\n",
    "from sklearn.ensemble import RandomForestClassifier\n",
    "from sklearn.neighbors import KNeighborsClassifier\n",
    "from sklearn.naive_bayes import GaussianNB\n",
    "from sklearn.linear_model import Perceptron\n",
    "from sklearn.linear_model import SGDClassifier\n",
    "from sklearn.tree import DecisionTreeClassifier\n",
    "from sklearn.discriminant_analysis import LinearDiscriminantAnalysis"
   ]
  },
  {
   "cell_type": "markdown",
   "metadata": {},
   "source": [
    "## Task 2a: Data Exploration\n",
    "\n",
    "After reviewing the data in sections 2.1, 2.2, 2.3 and 2.4 do you see any problems with this iris dataset? If so, please describe them in the practice notebook.  If not, simply indicate that there are no issues."
   ]
  },
  {
   "cell_type": "raw",
   "metadata": {},
   "source": [
    "2.3. \n",
    "- The datas are not normally distributed for variables: petal_length, petal_width and sepal_length.\n",
    "- Sepal_width has many outliners.\n",
    "- For setosa species, variables sepal_width, petal_length and petal_width have outliners.\n",
    "- For versicolor species, variable petal_length have outliners.\n",
    "- For virginica species, variables sepal_length and sepal_width have outliners.\n",
    "\n",
    "2.4. \n",
    "- Strong collinearity between petal_length and petal_width\n",
    "- Moderate collinearity between sepal_length and petal_width \n",
    "(sepal_length and petal_length maybe)"
   ]
  },
  {
   "cell_type": "markdown",
   "metadata": {},
   "source": [
    "## Task 2b:  Make Assumptions\n",
    "\n",
    "After reviewing the data in sections 2.1, 2.2, 2.3 and 2.4 are there any columns that would make poor predictors of species? \n",
    "\n",
    "**Hint**: columns that are poor predictors are:\n",
    "+ those with too many missing values\n",
    "+ those with no difference in variation when grouped by the outcome class\n",
    "+ variables with high levels of collinearity"
   ]
  },
  {
   "cell_type": "raw",
   "metadata": {},
   "source": [
    "petal_width correlated with both petal_length and sepal_length"
   ]
  },
  {
   "cell_type": "markdown",
   "metadata": {},
   "source": [
    "## Task 3a: Practice with the random forest classifier\n",
    "\n",
    "Now that you have learned how to perform supervised machine learning using a variety of algorithms, lets practice using a new algorithm we haven't looked at yet: the Random Forest Classifier.  The random forest classifier builds multiple decision trees and merges them together.  Review the sklearn [online documentation for the RandomForestClassifier](https://scikit-learn.org/stable/modules/generated/sklearn.ensemble.RandomForestClassifier.html).  For this task:\n",
    "\n",
    "1. Perform a 10-fold cross-validation strategy to see how well the random forest classifier performs with the iris data\n",
    "2. Use a boxplot to show the distribution of accuracy\n",
    "3. Use the `fit` and `predict` functions to see how well it performs with the testing data.\n",
    "4. Plot the confusion matrix\n",
    "5. Print the classification report.\n"
   ]
  },
  {
   "cell_type": "code",
   "execution_count": 16,
   "metadata": {},
   "outputs": [],
   "source": [
    "iris = sns.load_dataset('iris')"
   ]
  },
  {
   "cell_type": "code",
   "execution_count": 14,
   "metadata": {},
   "outputs": [
    {
     "data": {
      "text/plain": [
       "array([[5.1, 3.5, 1.4, 0.2],\n",
       "       [4.9, 3. , 1.4, 0.2],\n",
       "       [4.7, 3.2, 1.3, 0.2],\n",
       "       [4.6, 3.1, 1.5, 0.2],\n",
       "       [5. , 3.6, 1.4, 0.2],\n",
       "       [5.4, 3.9, 1.7, 0.4],\n",
       "       [4.6, 3.4, 1.4, 0.3],\n",
       "       [5. , 3.4, 1.5, 0.2],\n",
       "       [4.4, 2.9, 1.4, 0.2],\n",
       "       [4.9, 3.1, 1.5, 0.1],\n",
       "       [5.4, 3.7, 1.5, 0.2],\n",
       "       [4.8, 3.4, 1.6, 0.2],\n",
       "       [4.8, 3. , 1.4, 0.1],\n",
       "       [4.3, 3. , 1.1, 0.1],\n",
       "       [5.8, 4. , 1.2, 0.2],\n",
       "       [5.7, 4.4, 1.5, 0.4],\n",
       "       [5.4, 3.9, 1.3, 0.4],\n",
       "       [5.1, 3.5, 1.4, 0.3],\n",
       "       [5.7, 3.8, 1.7, 0.3],\n",
       "       [5.1, 3.8, 1.5, 0.3],\n",
       "       [5.4, 3.4, 1.7, 0.2],\n",
       "       [5.1, 3.7, 1.5, 0.4],\n",
       "       [4.6, 3.6, 1. , 0.2],\n",
       "       [5.1, 3.3, 1.7, 0.5],\n",
       "       [4.8, 3.4, 1.9, 0.2],\n",
       "       [5. , 3. , 1.6, 0.2],\n",
       "       [5. , 3.4, 1.6, 0.4],\n",
       "       [5.2, 3.5, 1.5, 0.2],\n",
       "       [5.2, 3.4, 1.4, 0.2],\n",
       "       [4.7, 3.2, 1.6, 0.2],\n",
       "       [4.8, 3.1, 1.6, 0.2],\n",
       "       [5.4, 3.4, 1.5, 0.4],\n",
       "       [5.2, 4.1, 1.5, 0.1],\n",
       "       [5.5, 4.2, 1.4, 0.2],\n",
       "       [4.9, 3.1, 1.5, 0.2],\n",
       "       [5. , 3.2, 1.2, 0.2],\n",
       "       [5.5, 3.5, 1.3, 0.2],\n",
       "       [4.9, 3.6, 1.4, 0.1],\n",
       "       [4.4, 3. , 1.3, 0.2],\n",
       "       [5.1, 3.4, 1.5, 0.2],\n",
       "       [5. , 3.5, 1.3, 0.3],\n",
       "       [4.5, 2.3, 1.3, 0.3],\n",
       "       [4.4, 3.2, 1.3, 0.2],\n",
       "       [5. , 3.5, 1.6, 0.6],\n",
       "       [5.1, 3.8, 1.9, 0.4],\n",
       "       [4.8, 3. , 1.4, 0.3],\n",
       "       [5.1, 3.8, 1.6, 0.2],\n",
       "       [4.6, 3.2, 1.4, 0.2],\n",
       "       [5.3, 3.7, 1.5, 0.2],\n",
       "       [5. , 3.3, 1.4, 0.2],\n",
       "       [7. , 3.2, 4.7, 1.4],\n",
       "       [6.4, 3.2, 4.5, 1.5],\n",
       "       [6.9, 3.1, 4.9, 1.5],\n",
       "       [5.5, 2.3, 4. , 1.3],\n",
       "       [6.5, 2.8, 4.6, 1.5],\n",
       "       [5.7, 2.8, 4.5, 1.3],\n",
       "       [6.3, 3.3, 4.7, 1.6],\n",
       "       [4.9, 2.4, 3.3, 1. ],\n",
       "       [6.6, 2.9, 4.6, 1.3],\n",
       "       [5.2, 2.7, 3.9, 1.4],\n",
       "       [5. , 2. , 3.5, 1. ],\n",
       "       [5.9, 3. , 4.2, 1.5],\n",
       "       [6. , 2.2, 4. , 1. ],\n",
       "       [6.1, 2.9, 4.7, 1.4],\n",
       "       [5.6, 2.9, 3.6, 1.3],\n",
       "       [6.7, 3.1, 4.4, 1.4],\n",
       "       [5.6, 3. , 4.5, 1.5],\n",
       "       [5.8, 2.7, 4.1, 1. ],\n",
       "       [6.2, 2.2, 4.5, 1.5],\n",
       "       [5.6, 2.5, 3.9, 1.1],\n",
       "       [5.9, 3.2, 4.8, 1.8],\n",
       "       [6.1, 2.8, 4. , 1.3],\n",
       "       [6.3, 2.5, 4.9, 1.5],\n",
       "       [6.1, 2.8, 4.7, 1.2],\n",
       "       [6.4, 2.9, 4.3, 1.3],\n",
       "       [6.6, 3. , 4.4, 1.4],\n",
       "       [6.8, 2.8, 4.8, 1.4],\n",
       "       [6.7, 3. , 5. , 1.7],\n",
       "       [6. , 2.9, 4.5, 1.5],\n",
       "       [5.7, 2.6, 3.5, 1. ],\n",
       "       [5.5, 2.4, 3.8, 1.1],\n",
       "       [5.5, 2.4, 3.7, 1. ],\n",
       "       [5.8, 2.7, 3.9, 1.2],\n",
       "       [6. , 2.7, 5.1, 1.6],\n",
       "       [5.4, 3. , 4.5, 1.5],\n",
       "       [6. , 3.4, 4.5, 1.6],\n",
       "       [6.7, 3.1, 4.7, 1.5],\n",
       "       [6.3, 2.3, 4.4, 1.3],\n",
       "       [5.6, 3. , 4.1, 1.3],\n",
       "       [5.5, 2.5, 4. , 1.3],\n",
       "       [5.5, 2.6, 4.4, 1.2],\n",
       "       [6.1, 3. , 4.6, 1.4],\n",
       "       [5.8, 2.6, 4. , 1.2],\n",
       "       [5. , 2.3, 3.3, 1. ],\n",
       "       [5.6, 2.7, 4.2, 1.3],\n",
       "       [5.7, 3. , 4.2, 1.2],\n",
       "       [5.7, 2.9, 4.2, 1.3],\n",
       "       [6.2, 2.9, 4.3, 1.3],\n",
       "       [5.1, 2.5, 3. , 1.1],\n",
       "       [5.7, 2.8, 4.1, 1.3],\n",
       "       [6.3, 3.3, 6. , 2.5],\n",
       "       [5.8, 2.7, 5.1, 1.9],\n",
       "       [7.1, 3. , 5.9, 2.1],\n",
       "       [6.3, 2.9, 5.6, 1.8],\n",
       "       [6.5, 3. , 5.8, 2.2],\n",
       "       [7.6, 3. , 6.6, 2.1],\n",
       "       [4.9, 2.5, 4.5, 1.7],\n",
       "       [7.3, 2.9, 6.3, 1.8],\n",
       "       [6.7, 2.5, 5.8, 1.8],\n",
       "       [7.2, 3.6, 6.1, 2.5],\n",
       "       [6.5, 3.2, 5.1, 2. ],\n",
       "       [6.4, 2.7, 5.3, 1.9],\n",
       "       [6.8, 3. , 5.5, 2.1],\n",
       "       [5.7, 2.5, 5. , 2. ],\n",
       "       [5.8, 2.8, 5.1, 2.4],\n",
       "       [6.4, 3.2, 5.3, 2.3],\n",
       "       [6.5, 3. , 5.5, 1.8],\n",
       "       [7.7, 3.8, 6.7, 2.2],\n",
       "       [7.7, 2.6, 6.9, 2.3],\n",
       "       [6. , 2.2, 5. , 1.5],\n",
       "       [6.9, 3.2, 5.7, 2.3],\n",
       "       [5.6, 2.8, 4.9, 2. ],\n",
       "       [7.7, 2.8, 6.7, 2. ],\n",
       "       [6.3, 2.7, 4.9, 1.8],\n",
       "       [6.7, 3.3, 5.7, 2.1],\n",
       "       [7.2, 3.2, 6. , 1.8],\n",
       "       [6.2, 2.8, 4.8, 1.8],\n",
       "       [6.1, 3. , 4.9, 1.8],\n",
       "       [6.4, 2.8, 5.6, 2.1],\n",
       "       [7.2, 3. , 5.8, 1.6],\n",
       "       [7.4, 2.8, 6.1, 1.9],\n",
       "       [7.9, 3.8, 6.4, 2. ],\n",
       "       [6.4, 2.8, 5.6, 2.2],\n",
       "       [6.3, 2.8, 5.1, 1.5],\n",
       "       [6.1, 2.6, 5.6, 1.4],\n",
       "       [7.7, 3. , 6.1, 2.3],\n",
       "       [6.3, 3.4, 5.6, 2.4],\n",
       "       [6.4, 3.1, 5.5, 1.8],\n",
       "       [6. , 3. , 4.8, 1.8],\n",
       "       [6.9, 3.1, 5.4, 2.1],\n",
       "       [6.7, 3.1, 5.6, 2.4],\n",
       "       [6.9, 3.1, 5.1, 2.3],\n",
       "       [5.8, 2.7, 5.1, 1.9],\n",
       "       [6.8, 3.2, 5.9, 2.3],\n",
       "       [6.7, 3.3, 5.7, 2.5],\n",
       "       [6.7, 3. , 5.2, 2.3],\n",
       "       [6.3, 2.5, 5. , 1.9],\n",
       "       [6.5, 3. , 5.2, 2. ],\n",
       "       [6.2, 3.4, 5.4, 2.3],\n",
       "       [5.9, 3. , 5.1, 1.8]])"
      ]
     },
     "execution_count": 14,
     "metadata": {},
     "output_type": "execute_result"
    }
   ],
   "source": [
    "X = iris.loc[:,'sepal_length':'petal_width'].values\n",
    "X"
   ]
  },
  {
   "cell_type": "code",
   "execution_count": 6,
   "metadata": {},
   "outputs": [],
   "source": [
    "Y = iris['species'].values"
   ]
  },
  {
   "cell_type": "code",
   "execution_count": 9,
   "metadata": {},
   "outputs": [
    {
     "data": {
      "text/plain": [
       "array([[-0.53846154,  1.        , -0.84285714, -0.73333333],\n",
       "       [-0.69230769,  0.        , -0.84285714, -0.73333333],\n",
       "       [-0.84615385,  0.4       , -0.87142857, -0.73333333],\n",
       "       [-0.92307692,  0.2       , -0.81428571, -0.73333333],\n",
       "       [-0.61538462,  1.2       , -0.84285714, -0.73333333],\n",
       "       [-0.30769231,  1.8       , -0.75714286, -0.6       ],\n",
       "       [-0.92307692,  0.8       , -0.84285714, -0.66666667],\n",
       "       [-0.61538462,  0.8       , -0.81428571, -0.73333333],\n",
       "       [-1.07692308, -0.2       , -0.84285714, -0.73333333],\n",
       "       [-0.69230769,  0.2       , -0.81428571, -0.8       ],\n",
       "       [-0.30769231,  1.4       , -0.81428571, -0.73333333],\n",
       "       [-0.76923077,  0.8       , -0.78571429, -0.73333333],\n",
       "       [-0.76923077,  0.        , -0.84285714, -0.8       ],\n",
       "       [-1.15384615,  0.        , -0.92857143, -0.8       ],\n",
       "       [ 0.        ,  2.        , -0.9       , -0.73333333],\n",
       "       [-0.07692308,  2.8       , -0.81428571, -0.6       ],\n",
       "       [-0.30769231,  1.8       , -0.87142857, -0.6       ],\n",
       "       [-0.53846154,  1.        , -0.84285714, -0.66666667],\n",
       "       [-0.07692308,  1.6       , -0.75714286, -0.66666667],\n",
       "       [-0.53846154,  1.6       , -0.81428571, -0.66666667],\n",
       "       [-0.30769231,  0.8       , -0.75714286, -0.73333333],\n",
       "       [-0.53846154,  1.4       , -0.81428571, -0.6       ],\n",
       "       [-0.92307692,  1.2       , -0.95714286, -0.73333333],\n",
       "       [-0.53846154,  0.6       , -0.75714286, -0.53333333],\n",
       "       [-0.76923077,  0.8       , -0.7       , -0.73333333],\n",
       "       [-0.61538462,  0.        , -0.78571429, -0.73333333],\n",
       "       [-0.61538462,  0.8       , -0.78571429, -0.6       ],\n",
       "       [-0.46153846,  1.        , -0.81428571, -0.73333333],\n",
       "       [-0.46153846,  0.8       , -0.84285714, -0.73333333],\n",
       "       [-0.84615385,  0.4       , -0.78571429, -0.73333333],\n",
       "       [-0.76923077,  0.2       , -0.78571429, -0.73333333],\n",
       "       [-0.30769231,  0.8       , -0.81428571, -0.6       ],\n",
       "       [-0.46153846,  2.2       , -0.81428571, -0.8       ],\n",
       "       [-0.23076923,  2.4       , -0.84285714, -0.73333333],\n",
       "       [-0.69230769,  0.2       , -0.81428571, -0.73333333],\n",
       "       [-0.61538462,  0.4       , -0.9       , -0.73333333],\n",
       "       [-0.23076923,  1.        , -0.87142857, -0.73333333],\n",
       "       [-0.69230769,  1.2       , -0.84285714, -0.8       ],\n",
       "       [-1.07692308,  0.        , -0.87142857, -0.73333333],\n",
       "       [-0.53846154,  0.8       , -0.81428571, -0.73333333],\n",
       "       [-0.61538462,  1.        , -0.87142857, -0.66666667],\n",
       "       [-1.        , -1.4       , -0.87142857, -0.66666667],\n",
       "       [-1.07692308,  0.4       , -0.87142857, -0.73333333],\n",
       "       [-0.61538462,  1.        , -0.78571429, -0.46666667],\n",
       "       [-0.53846154,  1.6       , -0.7       , -0.6       ],\n",
       "       [-0.76923077,  0.        , -0.84285714, -0.66666667],\n",
       "       [-0.53846154,  1.6       , -0.78571429, -0.73333333],\n",
       "       [-0.92307692,  0.4       , -0.84285714, -0.73333333],\n",
       "       [-0.38461538,  1.4       , -0.81428571, -0.73333333],\n",
       "       [-0.61538462,  0.6       , -0.84285714, -0.73333333],\n",
       "       [ 0.92307692,  0.4       ,  0.1       ,  0.06666667],\n",
       "       [ 0.46153846,  0.4       ,  0.04285714,  0.13333333],\n",
       "       [ 0.84615385,  0.2       ,  0.15714286,  0.13333333],\n",
       "       [-0.23076923, -1.4       , -0.1       ,  0.        ],\n",
       "       [ 0.53846154, -0.4       ,  0.07142857,  0.13333333],\n",
       "       [-0.07692308, -0.4       ,  0.04285714,  0.        ],\n",
       "       [ 0.38461538,  0.6       ,  0.1       ,  0.2       ],\n",
       "       [-0.69230769, -1.2       , -0.3       , -0.2       ],\n",
       "       [ 0.61538462, -0.2       ,  0.07142857,  0.        ],\n",
       "       [-0.46153846, -0.6       , -0.12857143,  0.06666667],\n",
       "       [-0.61538462, -2.        , -0.24285714, -0.2       ],\n",
       "       [ 0.07692308,  0.        , -0.04285714,  0.13333333],\n",
       "       [ 0.15384615, -1.6       , -0.1       , -0.2       ],\n",
       "       [ 0.23076923, -0.2       ,  0.1       ,  0.06666667],\n",
       "       [-0.15384615, -0.2       , -0.21428571,  0.        ],\n",
       "       [ 0.69230769,  0.2       ,  0.01428571,  0.06666667],\n",
       "       [-0.15384615,  0.        ,  0.04285714,  0.13333333],\n",
       "       [ 0.        , -0.6       , -0.07142857, -0.2       ],\n",
       "       [ 0.30769231, -1.6       ,  0.04285714,  0.13333333],\n",
       "       [-0.15384615, -1.        , -0.12857143, -0.13333333],\n",
       "       [ 0.07692308,  0.4       ,  0.12857143,  0.33333333],\n",
       "       [ 0.23076923, -0.4       , -0.1       ,  0.        ],\n",
       "       [ 0.38461538, -1.        ,  0.15714286,  0.13333333],\n",
       "       [ 0.23076923, -0.4       ,  0.1       , -0.06666667],\n",
       "       [ 0.46153846, -0.2       , -0.01428571,  0.        ],\n",
       "       [ 0.61538462,  0.        ,  0.01428571,  0.06666667],\n",
       "       [ 0.76923077, -0.4       ,  0.12857143,  0.06666667],\n",
       "       [ 0.69230769,  0.        ,  0.18571429,  0.26666667],\n",
       "       [ 0.15384615, -0.2       ,  0.04285714,  0.13333333],\n",
       "       [-0.07692308, -0.8       , -0.24285714, -0.2       ],\n",
       "       [-0.23076923, -1.2       , -0.15714286, -0.13333333],\n",
       "       [-0.23076923, -1.2       , -0.18571429, -0.2       ],\n",
       "       [ 0.        , -0.6       , -0.12857143, -0.06666667],\n",
       "       [ 0.15384615, -0.6       ,  0.21428571,  0.2       ],\n",
       "       [-0.30769231,  0.        ,  0.04285714,  0.13333333],\n",
       "       [ 0.15384615,  0.8       ,  0.04285714,  0.2       ],\n",
       "       [ 0.69230769,  0.2       ,  0.1       ,  0.13333333],\n",
       "       [ 0.38461538, -1.4       ,  0.01428571,  0.        ],\n",
       "       [-0.15384615,  0.        , -0.07142857,  0.        ],\n",
       "       [-0.23076923, -1.        , -0.1       ,  0.        ],\n",
       "       [-0.23076923, -0.8       ,  0.01428571, -0.06666667],\n",
       "       [ 0.23076923,  0.        ,  0.07142857,  0.06666667],\n",
       "       [ 0.        , -0.8       , -0.1       , -0.06666667],\n",
       "       [-0.61538462, -1.4       , -0.3       , -0.2       ],\n",
       "       [-0.15384615, -0.6       , -0.04285714,  0.        ],\n",
       "       [-0.07692308,  0.        , -0.04285714, -0.06666667],\n",
       "       [-0.07692308, -0.2       , -0.04285714,  0.        ],\n",
       "       [ 0.30769231, -0.2       , -0.01428571,  0.        ],\n",
       "       [-0.53846154, -1.        , -0.38571429, -0.13333333],\n",
       "       [-0.07692308, -0.4       , -0.07142857,  0.        ],\n",
       "       [ 0.38461538,  0.6       ,  0.47142857,  0.8       ],\n",
       "       [ 0.        , -0.6       ,  0.21428571,  0.4       ],\n",
       "       [ 1.        ,  0.        ,  0.44285714,  0.53333333],\n",
       "       [ 0.38461538, -0.2       ,  0.35714286,  0.33333333],\n",
       "       [ 0.53846154,  0.        ,  0.41428571,  0.6       ],\n",
       "       [ 1.38461538,  0.        ,  0.64285714,  0.53333333],\n",
       "       [-0.69230769, -1.        ,  0.04285714,  0.26666667],\n",
       "       [ 1.15384615, -0.2       ,  0.55714286,  0.33333333],\n",
       "       [ 0.69230769, -1.        ,  0.41428571,  0.33333333],\n",
       "       [ 1.07692308,  1.2       ,  0.5       ,  0.8       ],\n",
       "       [ 0.53846154,  0.4       ,  0.21428571,  0.46666667],\n",
       "       [ 0.46153846, -0.6       ,  0.27142857,  0.4       ],\n",
       "       [ 0.76923077,  0.        ,  0.32857143,  0.53333333],\n",
       "       [-0.07692308, -1.        ,  0.18571429,  0.46666667],\n",
       "       [ 0.        , -0.4       ,  0.21428571,  0.73333333],\n",
       "       [ 0.46153846,  0.4       ,  0.27142857,  0.66666667],\n",
       "       [ 0.53846154,  0.        ,  0.32857143,  0.33333333],\n",
       "       [ 1.46153846,  1.6       ,  0.67142857,  0.6       ],\n",
       "       [ 1.46153846, -0.8       ,  0.72857143,  0.66666667],\n",
       "       [ 0.15384615, -1.6       ,  0.18571429,  0.13333333],\n",
       "       [ 0.84615385,  0.4       ,  0.38571429,  0.66666667],\n",
       "       [-0.15384615, -0.4       ,  0.15714286,  0.46666667],\n",
       "       [ 1.46153846, -0.4       ,  0.67142857,  0.46666667],\n",
       "       [ 0.38461538, -0.6       ,  0.15714286,  0.33333333],\n",
       "       [ 0.69230769,  0.6       ,  0.38571429,  0.53333333],\n",
       "       [ 1.07692308,  0.4       ,  0.47142857,  0.33333333],\n",
       "       [ 0.30769231, -0.4       ,  0.12857143,  0.33333333],\n",
       "       [ 0.23076923,  0.        ,  0.15714286,  0.33333333],\n",
       "       [ 0.46153846, -0.4       ,  0.35714286,  0.53333333],\n",
       "       [ 1.07692308,  0.        ,  0.41428571,  0.2       ],\n",
       "       [ 1.23076923, -0.4       ,  0.5       ,  0.4       ],\n",
       "       [ 1.61538462,  1.6       ,  0.58571429,  0.46666667],\n",
       "       [ 0.46153846, -0.4       ,  0.35714286,  0.6       ],\n",
       "       [ 0.38461538, -0.4       ,  0.21428571,  0.13333333],\n",
       "       [ 0.23076923, -0.8       ,  0.35714286,  0.06666667],\n",
       "       [ 1.46153846,  0.        ,  0.5       ,  0.66666667],\n",
       "       [ 0.38461538,  0.8       ,  0.35714286,  0.73333333],\n",
       "       [ 0.46153846,  0.2       ,  0.32857143,  0.33333333],\n",
       "       [ 0.15384615,  0.        ,  0.12857143,  0.33333333],\n",
       "       [ 0.84615385,  0.2       ,  0.3       ,  0.53333333],\n",
       "       [ 0.69230769,  0.2       ,  0.35714286,  0.73333333],\n",
       "       [ 0.84615385,  0.2       ,  0.21428571,  0.66666667],\n",
       "       [ 0.        , -0.6       ,  0.21428571,  0.4       ],\n",
       "       [ 0.76923077,  0.4       ,  0.44285714,  0.66666667],\n",
       "       [ 0.69230769,  0.6       ,  0.38571429,  0.8       ],\n",
       "       [ 0.69230769,  0.        ,  0.24285714,  0.66666667],\n",
       "       [ 0.38461538, -1.        ,  0.18571429,  0.4       ],\n",
       "       [ 0.53846154,  0.        ,  0.24285714,  0.46666667],\n",
       "       [ 0.30769231,  0.8       ,  0.3       ,  0.66666667],\n",
       "       [ 0.07692308,  0.        ,  0.21428571,  0.33333333]])"
      ]
     },
     "execution_count": 9,
     "metadata": {},
     "output_type": "execute_result"
    }
   ],
   "source": [
    "X = preprocessing.robust_scale(X)\n",
    "X"
   ]
  },
  {
   "cell_type": "code",
   "execution_count": 18,
   "metadata": {},
   "outputs": [],
   "source": [
    "Xt, Xv, Yt, Yv = model_selection.train_test_split(X, Y, test_size=0.2, random_state=10)"
   ]
  },
  {
   "cell_type": "code",
   "execution_count": 19,
   "metadata": {},
   "outputs": [],
   "source": [
    "kfold = model_selection.KFold(n_splits=10, random_state=10)"
   ]
  },
  {
   "cell_type": "code",
   "execution_count": 42,
   "metadata": {},
   "outputs": [
    {
     "name": "stderr",
     "output_type": "stream",
     "text": [
      "/Users/NhatLe/opt/anaconda3/lib/python3.7/site-packages/sklearn/ensemble/forest.py:245: FutureWarning: The default value of n_estimators will change from 10 in version 0.20 to 100 in 0.22.\n",
      "  \"10 in version 0.20 to 100 in 0.22.\", FutureWarning)\n",
      "/Users/NhatLe/opt/anaconda3/lib/python3.7/site-packages/sklearn/ensemble/forest.py:245: FutureWarning: The default value of n_estimators will change from 10 in version 0.20 to 100 in 0.22.\n",
      "  \"10 in version 0.20 to 100 in 0.22.\", FutureWarning)\n",
      "/Users/NhatLe/opt/anaconda3/lib/python3.7/site-packages/sklearn/ensemble/forest.py:245: FutureWarning: The default value of n_estimators will change from 10 in version 0.20 to 100 in 0.22.\n",
      "  \"10 in version 0.20 to 100 in 0.22.\", FutureWarning)\n",
      "/Users/NhatLe/opt/anaconda3/lib/python3.7/site-packages/sklearn/ensemble/forest.py:245: FutureWarning: The default value of n_estimators will change from 10 in version 0.20 to 100 in 0.22.\n",
      "  \"10 in version 0.20 to 100 in 0.22.\", FutureWarning)\n",
      "/Users/NhatLe/opt/anaconda3/lib/python3.7/site-packages/sklearn/ensemble/forest.py:245: FutureWarning: The default value of n_estimators will change from 10 in version 0.20 to 100 in 0.22.\n",
      "  \"10 in version 0.20 to 100 in 0.22.\", FutureWarning)\n",
      "/Users/NhatLe/opt/anaconda3/lib/python3.7/site-packages/sklearn/ensemble/forest.py:245: FutureWarning: The default value of n_estimators will change from 10 in version 0.20 to 100 in 0.22.\n",
      "  \"10 in version 0.20 to 100 in 0.22.\", FutureWarning)\n",
      "/Users/NhatLe/opt/anaconda3/lib/python3.7/site-packages/sklearn/ensemble/forest.py:245: FutureWarning: The default value of n_estimators will change from 10 in version 0.20 to 100 in 0.22.\n",
      "  \"10 in version 0.20 to 100 in 0.22.\", FutureWarning)\n",
      "/Users/NhatLe/opt/anaconda3/lib/python3.7/site-packages/sklearn/ensemble/forest.py:245: FutureWarning: The default value of n_estimators will change from 10 in version 0.20 to 100 in 0.22.\n",
      "  \"10 in version 0.20 to 100 in 0.22.\", FutureWarning)\n",
      "/Users/NhatLe/opt/anaconda3/lib/python3.7/site-packages/sklearn/ensemble/forest.py:245: FutureWarning: The default value of n_estimators will change from 10 in version 0.20 to 100 in 0.22.\n",
      "  \"10 in version 0.20 to 100 in 0.22.\", FutureWarning)\n",
      "/Users/NhatLe/opt/anaconda3/lib/python3.7/site-packages/sklearn/ensemble/forest.py:245: FutureWarning: The default value of n_estimators will change from 10 in version 0.20 to 100 in 0.22.\n",
      "  \"10 in version 0.20 to 100 in 0.22.\", FutureWarning)\n"
     ]
    },
    {
     "data": {
      "text/plain": [
       "array([1.        , 0.91666667, 0.91666667, 0.91666667, 1.        ,\n",
       "       1.        , 1.        , 0.83333333, 0.91666667, 1.        ])"
      ]
     },
     "execution_count": 42,
     "metadata": {},
     "output_type": "execute_result"
    }
   ],
   "source": [
    "# Create the LogisticRegression object prepared for a multinomial outcome validation set.\n",
    "alg = RandomForestClassifier()\n",
    "\n",
    "# Execute the cross-validation strategy\n",
    "results['RandomForestClassifier'] = model_selection.cross_val_score(alg, Xt, Yt, cv=kfold, \n",
    "                                                                scoring=\"accuracy\", error_score=np.nan)\n",
    "\n",
    "# Take a look at the scores for each of the 10-fold runs.\n",
    "results['RandomForestClassifier']"
   ]
  },
  {
   "cell_type": "code",
   "execution_count": 43,
   "metadata": {},
   "outputs": [
    {
     "data": {
      "image/png": "[encoded data removed]",
      "text/plain": [
       "<Figure size 432x288 with 1 Axes>"
      ]
     },
     "metadata": {
      "needs_background": "light"
     },
     "output_type": "display_data"
    }
   ],
   "source": [
    "pd.DataFrame(results).plot(kind=\"box\", rot=90);"
   ]
  },
  {
   "cell_type": "code",
   "execution_count": 23,
   "metadata": {},
   "outputs": [
    {
     "name": "stderr",
     "output_type": "stream",
     "text": [
      "/Users/NhatLe/opt/anaconda3/lib/python3.7/site-packages/sklearn/ensemble/forest.py:245: FutureWarning: The default value of n_estimators will change from 10 in version 0.20 to 100 in 0.22.\n",
      "  \"10 in version 0.20 to 100 in 0.22.\", FutureWarning)\n"
     ]
    },
    {
     "data": {
      "text/plain": [
       "array(['versicolor', 'virginica', 'setosa', 'versicolor', 'setosa',\n",
       "       'versicolor', 'virginica', 'versicolor', 'setosa', 'versicolor',\n",
       "       'versicolor', 'virginica', 'versicolor', 'setosa', 'setosa',\n",
       "       'virginica', 'versicolor', 'setosa', 'setosa', 'setosa',\n",
       "       'virginica', 'virginica', 'virginica', 'setosa', 'versicolor',\n",
       "       'setosa', 'versicolor', 'versicolor', 'versicolor', 'virginica'],\n",
       "      dtype=object)"
      ]
     },
     "execution_count": 23,
     "metadata": {},
     "output_type": "execute_result"
    }
   ],
   "source": [
    "# Create the LinearDiscriminantAnalysis object with defaults.\n",
    "alg = RandomForestClassifier()\n",
    "\n",
    "# Create a new model using all of the training data.\n",
    "alg.fit(Xt, Yt)\n",
    "\n",
    "# Using the testing data, predict the iris species.\n",
    "predictions = alg.predict(Xv)\n",
    "\n",
    "# Let's see the predictions\n",
    "predictions"
   ]
  },
  {
   "cell_type": "code",
   "execution_count": 24,
   "metadata": {},
   "outputs": [
    {
     "data": {
      "text/plain": [
       "0.9666666666666667"
      ]
     },
     "execution_count": 24,
     "metadata": {},
     "output_type": "execute_result"
    }
   ],
   "source": [
    "accuracy_score(Yv, predictions)"
   ]
  },
  {
   "cell_type": "code",
   "execution_count": 25,
   "metadata": {},
   "outputs": [
    {
     "name": "stdout",
     "output_type": "stream",
     "text": [
      "[[12  1  0]\n",
      " [ 0  7  0]\n",
      " [ 0  0 10]]\n"
     ]
    }
   ],
   "source": [
    "labels = ['versicolor', 'virginica', 'setosa']\n",
    "cm = confusion_matrix(Yv, predictions, labels=labels)\n",
    "print(cm)"
   ]
  },
  {
   "cell_type": "code",
   "execution_count": 29,
   "metadata": {},
   "outputs": [
    {
     "data": {
      "image/png": "[encoded data removed]",
      "text/plain": [
       "<Figure size 432x288 with 2 Axes>"
      ]
     },
     "metadata": {
      "needs_background": "light"
     },
     "output_type": "display_data"
    }
   ],
   "source": [
    "sns.heatmap(cm,annot=True, xticklabels=labels,yticklabels=labels);"
   ]
  },
  {
   "cell_type": "code",
   "execution_count": 26,
   "metadata": {},
   "outputs": [
    {
     "name": "stdout",
     "output_type": "stream",
     "text": [
      "              precision    recall  f1-score   support\n",
      "\n",
      "      setosa       1.00      1.00      1.00        10\n",
      "  versicolor       1.00      0.92      0.96        13\n",
      "   virginica       0.88      1.00      0.93         7\n",
      "\n",
      "    accuracy                           0.97        30\n",
      "   macro avg       0.96      0.97      0.96        30\n",
      "weighted avg       0.97      0.97      0.97        30\n",
      "\n"
     ]
    }
   ],
   "source": [
    "cr = classification_report(Yv, predictions)\n",
    "print(cr)"
   ]
  }
 ],
 "metadata": {
  "kernelspec": {
   "display_name": "Python 3",
   "language": "python",
   "name": "python3"
  },
  "language_info": {
   "codemirror_mode": {
    "name": "ipython",
    "version": 3
   },
   "file_extension": ".py",
   "mimetype": "text/x-python",
   "name": "python",
   "nbconvert_exporter": "python",
   "pygments_lexer": "ipython3",
   "version": "3.7.4"
  }
 },
 "nbformat": 4,
 "nbformat_minor": 4
}
